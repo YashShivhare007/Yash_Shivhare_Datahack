{
  "nbformat": 4,
  "nbformat_minor": 0,
  "metadata": {
    "colab": {
      "provenance": []
    },
    "kernelspec": {
      "name": "python3",
      "display_name": "Python 3"
    },
    "language_info": {
      "name": "python"
    }
  },
  "cells": [
    {
      "cell_type": "code",
      "source": [
        "import pandas as pd\n",
        "import numpy as np\n",
        "from sklearn.preprocessing import StandardScaler, OneHotEncoder\n",
        "from sklearn.compose import ColumnTransformer\n",
        "from sklearn.pipeline import Pipeline\n",
        "from sklearn.impute import SimpleImputer\n",
        "from sklearn.model_selection import train_test_split\n",
        "from sklearn.metrics import roc_auc_score\n",
        "from tensorflow.keras.models import Sequential\n",
        "from tensorflow.keras.layers import Dense, Dropout, BatchNormalization\n",
        "from tensorflow.keras.optimizers import Adam\n",
        "from tensorflow.keras.callbacks import EarlyStopping, ReduceLROnPlateau"
      ],
      "metadata": {
        "id": "tui6kprE_Mfp"
      },
      "execution_count": 1,
      "outputs": []
    },
    {
      "cell_type": "code",
      "execution_count": 2,
      "metadata": {
        "id": "hnoSw_Ee-oMB"
      },
      "outputs": [],
      "source": [
        "\n",
        "\n",
        "# Step 1: Load the Data\n",
        "# Load training features, training labels, and test features\n",
        "train_features = pd.read_csv('training_set_features.csv')\n",
        "train_labels = pd.read_csv('training_set_labels.csv')\n",
        "test_features = pd.read_csv('test_set_features.csv')\n",
        "\n",
        "# Drop the 'respondent_id' column as it's not a feature for prediction\n",
        "X = train_features.drop(columns=['respondent_id'])\n",
        "y = train_labels.drop(columns=['respondent_id'])\n",
        "X_test = test_features.drop(columns=['respondent_id'])\n",
        "\n",
        "# Split the data into training and validation sets\n",
        "X_train, X_val, y_train, y_val = train_test_split(X, y, test_size=0.2, random_state=42)\n",
        "\n",
        "# Identify categorical and numerical columns\n",
        "categorical_cols = X_train.select_dtypes(include=['object']).columns\n",
        "numerical_cols = X_train.select_dtypes(include=['int64', 'float64']).columns\n",
        "\n",
        "# Create preprocessing pipelines for numerical and categorical data\n",
        "numerical_transformer = Pipeline(steps=[\n",
        "    ('imputer', SimpleImputer(strategy='median')),\n",
        "    ('scaler', StandardScaler())\n",
        "])\n",
        "\n",
        "categorical_transformer = Pipeline(steps=[\n",
        "    ('imputer', SimpleImputer(strategy='constant', fill_value='missing')),\n",
        "    ('onehot', OneHotEncoder(handle_unknown='ignore'))\n",
        "])\n",
        "\n",
        "# Combine preprocessing steps into a single ColumnTransformer\n",
        "preprocessor = ColumnTransformer(\n",
        "    transformers=[\n",
        "        ('num', numerical_transformer, numerical_cols),\n",
        "        ('cat', categorical_transformer, categorical_cols)\n",
        "    ])\n",
        "\n"
      ]
    },
    {
      "cell_type": "code",
      "source": [
        "# Apply preprocessing to the training and validation sets\n",
        "X_train = preprocessor.fit_transform(X_train)\n",
        "X_val = preprocessor.transform(X_val)\n",
        "X_test = preprocessor.transform(X_test)\n",
        "\n",
        "# Convert the data to numpy arrays for use in TensorFlow\n",
        "X_train = np.array(X_train)\n",
        "X_val = np.array(X_val)\n",
        "X_test = np.array(X_test)\n",
        "y_train = np.array(y_train)\n",
        "y_val = np.array(y_val)"
      ],
      "metadata": {
        "id": "BZjWb_Ti_J2l"
      },
      "execution_count": 3,
      "outputs": []
    },
    {
      "cell_type": "code",
      "source": [
        "# Step 3: Build and Train the Deep Learning Model\n",
        "def build_sequential_model(input_shape):\n",
        "    model = Sequential()\n",
        "    model.add(Dense(256, activation='relu', input_shape=(input_shape,)))\n",
        "    model.add(BatchNormalization())\n",
        "    model.add(Dropout(0.5))\n",
        "    model.add(Dense(128, activation='relu'))\n",
        "    model.add(BatchNormalization())\n",
        "    model.add(Dropout(0.4))\n",
        "    model.add(Dense(64, activation='relu'))\n",
        "    model.add(BatchNormalization())\n",
        "    model.add(Dropout(0.3))\n",
        "    model.add(Dense(32, activation='relu'))\n",
        "    model.add(Dense(2, activation='sigmoid'))\n",
        "    return model\n",
        "\n",
        "# Compile the model\n",
        "model = build_sequential_model(X_train.shape[1])\n",
        "model.compile(optimizer=Adam(learning_rate=0.001), loss='binary_crossentropy', metrics=['AUC'])\n",
        "\n",
        "# Early stopping and learning rate reduction callbacks\n",
        "early_stopping = EarlyStopping(monitor='val_auc', patience=10, restore_best_weights=True, mode='max')\n",
        "reduce_lr = ReduceLROnPlateau(monitor='val_auc', factor=0.5, patience=5, min_lr=1e-6, mode='max')\n",
        "\n",
        "# Train the model\n",
        "history = model.fit(X_train, y_train, validation_data=(X_val, y_val), epochs=100, batch_size=64, callbacks=[early_stopping, reduce_lr])"
      ],
      "metadata": {
        "colab": {
          "base_uri": "https://localhost:8080/"
        },
        "id": "sZhaJ7uZ-6-q",
        "outputId": "a596bca9-d58a-46b6-9e10-0a123ec46270"
      },
      "execution_count": 4,
      "outputs": [
        {
          "output_type": "stream",
          "name": "stdout",
          "text": [
            "Epoch 1/100\n",
            "334/334 [==============================] - 5s 6ms/step - loss: 0.5269 - auc: 0.7858 - val_loss: 0.4460 - val_auc: 0.8516 - lr: 0.0010\n",
            "Epoch 2/100\n",
            "334/334 [==============================] - 2s 6ms/step - loss: 0.4646 - auc: 0.8380 - val_loss: 0.4315 - val_auc: 0.8604 - lr: 0.0010\n",
            "Epoch 3/100\n",
            "334/334 [==============================] - 2s 5ms/step - loss: 0.4502 - auc: 0.8487 - val_loss: 0.4300 - val_auc: 0.8627 - lr: 0.0010\n",
            "Epoch 4/100\n",
            "334/334 [==============================] - 2s 5ms/step - loss: 0.4424 - auc: 0.8544 - val_loss: 0.4263 - val_auc: 0.8648 - lr: 0.0010\n",
            "Epoch 5/100\n",
            "334/334 [==============================] - 2s 7ms/step - loss: 0.4386 - auc: 0.8576 - val_loss: 0.4218 - val_auc: 0.8673 - lr: 0.0010\n",
            "Epoch 6/100\n",
            "334/334 [==============================] - 3s 9ms/step - loss: 0.4347 - auc: 0.8603 - val_loss: 0.4240 - val_auc: 0.8662 - lr: 0.0010\n",
            "Epoch 7/100\n",
            "334/334 [==============================] - 2s 5ms/step - loss: 0.4324 - auc: 0.8615 - val_loss: 0.4223 - val_auc: 0.8681 - lr: 0.0010\n",
            "Epoch 8/100\n",
            "334/334 [==============================] - 2s 5ms/step - loss: 0.4290 - auc: 0.8641 - val_loss: 0.4200 - val_auc: 0.8684 - lr: 0.0010\n",
            "Epoch 9/100\n",
            "334/334 [==============================] - 2s 5ms/step - loss: 0.4271 - auc: 0.8660 - val_loss: 0.4208 - val_auc: 0.8677 - lr: 0.0010\n",
            "Epoch 10/100\n",
            "334/334 [==============================] - 2s 5ms/step - loss: 0.4241 - auc: 0.8678 - val_loss: 0.4221 - val_auc: 0.8665 - lr: 0.0010\n",
            "Epoch 11/100\n",
            "334/334 [==============================] - 2s 5ms/step - loss: 0.4227 - auc: 0.8691 - val_loss: 0.4224 - val_auc: 0.8674 - lr: 0.0010\n",
            "Epoch 12/100\n",
            "334/334 [==============================] - 2s 7ms/step - loss: 0.4225 - auc: 0.8693 - val_loss: 0.4204 - val_auc: 0.8684 - lr: 0.0010\n",
            "Epoch 13/100\n",
            "334/334 [==============================] - 4s 12ms/step - loss: 0.4202 - auc: 0.8711 - val_loss: 0.4221 - val_auc: 0.8671 - lr: 0.0010\n",
            "Epoch 14/100\n",
            "334/334 [==============================] - 3s 10ms/step - loss: 0.4132 - auc: 0.8757 - val_loss: 0.4217 - val_auc: 0.8677 - lr: 5.0000e-04\n",
            "Epoch 15/100\n",
            "334/334 [==============================] - 4s 12ms/step - loss: 0.4110 - auc: 0.8771 - val_loss: 0.4216 - val_auc: 0.8678 - lr: 5.0000e-04\n",
            "Epoch 16/100\n",
            "334/334 [==============================] - 5s 14ms/step - loss: 0.4107 - auc: 0.8775 - val_loss: 0.4217 - val_auc: 0.8670 - lr: 5.0000e-04\n",
            "Epoch 17/100\n",
            "334/334 [==============================] - 3s 8ms/step - loss: 0.4091 - auc: 0.8785 - val_loss: 0.4209 - val_auc: 0.8681 - lr: 5.0000e-04\n",
            "Epoch 18/100\n",
            "334/334 [==============================] - 2s 6ms/step - loss: 0.4060 - auc: 0.8805 - val_loss: 0.4214 - val_auc: 0.8677 - lr: 5.0000e-04\n"
          ]
        }
      ]
    },
    {
      "cell_type": "code",
      "source": [
        "# Step 4: Validate the Model\n",
        "# Predict probabilities on the validation set\n",
        "y_val_pred_proba = model.predict(X_val)\n",
        "\n",
        "# Extract probabilities for each class (1 = vaccinated)\n",
        "y_val_pred_proba_xyz = y_val_pred_proba[:, 0]\n",
        "y_val_pred_proba_seasonal = y_val_pred_proba[:, 1]\n",
        "\n",
        "# Calculate the ROC AUC score for both vaccines\n",
        "roc_auc_xyz = roc_auc_score(y_val[:, 0], y_val_pred_proba_xyz)\n",
        "roc_auc_seasonal = roc_auc_score(y_val[:, 1], y_val_pred_proba_seasonal)\n",
        "mean_roc_auc = (roc_auc_xyz + roc_auc_seasonal) / 2\n",
        "\n",
        "print(f'ROC AUC for xyz_vaccine: {roc_auc_xyz}')\n",
        "print(f'ROC AUC for seasonal_vaccine: {roc_auc_seasonal}')\n",
        "print(f'Mean ROC AUC: {mean_roc_auc}')"
      ],
      "metadata": {
        "colab": {
          "base_uri": "https://localhost:8080/"
        },
        "id": "i2MObkav-2Qi",
        "outputId": "2b695732-540f-468d-b39d-921ad043c74f"
      },
      "execution_count": 8,
      "outputs": [
        {
          "output_type": "stream",
          "name": "stdout",
          "text": [
            "167/167 [==============================] - 0s 2ms/step\n",
            "ROC AUC for xyz_vaccine: 0.8381033120708636\n",
            "ROC AUC for seasonal_vaccine: 0.8612858374891561\n",
            "Mean ROC AUC: 0.8496945747800099\n"
          ]
        }
      ]
    },
    {
      "cell_type": "code",
      "source": [
        "# Step 5: Make Predictions on Test Set\n",
        "# Predict probabilities on the test set\n",
        "y_test_pred_proba = model.predict(X_test)\n",
        "\n",
        "# Extract probabilities for each class (1 = vaccinated)\n",
        "y_test_pred_proba_xyz = y_test_pred_proba[:, 0]\n",
        "y_test_pred_proba_seasonal = y_test_pred_proba[:, 1]"
      ],
      "metadata": {
        "colab": {
          "base_uri": "https://localhost:8080/"
        },
        "id": "tpBM5lLx-zFU",
        "outputId": "8f62ff47-57a7-4c7e-ecc7-5c6f14af385c"
      },
      "execution_count": 9,
      "outputs": [
        {
          "output_type": "stream",
          "name": "stdout",
          "text": [
            "835/835 [==============================] - 1s 1ms/step\n"
          ]
        }
      ]
    },
    {
      "cell_type": "code",
      "source": [
        "# Step 6: Prepare Submission\n",
        "# Create a DataFrame with respondent IDs and predicted probabilities\n",
        "submission = pd.DataFrame({\n",
        "    'respondent_id': test_features['respondent_id'],\n",
        "    'xyz_vaccine': y_test_pred_proba_xyz,\n",
        "    'seasonal_vaccine': y_test_pred_proba_seasonal\n",
        "})\n",
        "\n",
        "# Save the predictions to a CSV file\n",
        "submission.to_csv('test_set_labels.csv', index=False)\n",
        "\n",
        "print(\"Submission file created successfully!\")"
      ],
      "metadata": {
        "colab": {
          "base_uri": "https://localhost:8080/"
        },
        "id": "WznPV8Pc-w8E",
        "outputId": "2025a563-20eb-4466-a887-35c10eb44829"
      },
      "execution_count": 10,
      "outputs": [
        {
          "output_type": "stream",
          "name": "stdout",
          "text": [
            "Submission file created successfully!\n"
          ]
        }
      ]
    }
  ]
}